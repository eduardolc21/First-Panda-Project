{
 "cells": [
  {
   "cell_type": "code",
   "execution_count": 25,
   "id": "8ba1f8b3",
   "metadata": {},
   "outputs": [],
   "source": [
    "import pandas as pd\n",
    "import matplotlib.pyplot as plt\n",
    "import matplotlib\n",
    "import numpy as np\n",
    "%matplotlib inline  \n",
    "from matplotlib.pyplot import figure\n",
    "#figure(figsize=(8, 6), dpi=80)"
   ]
  },
  {
   "cell_type": "code",
   "execution_count": 2,
   "id": "ca801ed9",
   "metadata": {},
   "outputs": [],
   "source": [
    "df = pd.read_csv(\"positivos_covid.csv\", sep =\";\")"
   ]
  },
  {
   "cell_type": "code",
   "execution_count": 3,
   "id": "c297c10e",
   "metadata": {},
   "outputs": [
    {
     "data": {
      "text/html": [
       "<div>\n",
       "<style scoped>\n",
       "    .dataframe tbody tr th:only-of-type {\n",
       "        vertical-align: middle;\n",
       "    }\n",
       "\n",
       "    .dataframe tbody tr th {\n",
       "        vertical-align: top;\n",
       "    }\n",
       "\n",
       "    .dataframe thead th {\n",
       "        text-align: right;\n",
       "    }\n",
       "</style>\n",
       "<table border=\"1\" class=\"dataframe\">\n",
       "  <thead>\n",
       "    <tr style=\"text-align: right;\">\n",
       "      <th></th>\n",
       "      <th>FECHA_CORTE</th>\n",
       "      <th>DEPARTAMENTO</th>\n",
       "      <th>PROVINCIA</th>\n",
       "      <th>DISTRITO</th>\n",
       "      <th>METODODX</th>\n",
       "      <th>EDAD</th>\n",
       "      <th>SEXO</th>\n",
       "      <th>FECHA_RESULTADO</th>\n",
       "      <th>UBIGEO</th>\n",
       "      <th>id_persona</th>\n",
       "    </tr>\n",
       "  </thead>\n",
       "  <tbody>\n",
       "    <tr>\n",
       "      <th>0</th>\n",
       "      <td>20220111</td>\n",
       "      <td>LIMA</td>\n",
       "      <td>LIMA</td>\n",
       "      <td>SAN MARTIN DE PORRES</td>\n",
       "      <td>PR</td>\n",
       "      <td>25.0</td>\n",
       "      <td>MASCULINO</td>\n",
       "      <td>20201217.0</td>\n",
       "      <td>150135.0</td>\n",
       "      <td>24662153.0</td>\n",
       "    </tr>\n",
       "    <tr>\n",
       "      <th>1</th>\n",
       "      <td>20220111</td>\n",
       "      <td>ICA</td>\n",
       "      <td>PISCO</td>\n",
       "      <td>PISCO</td>\n",
       "      <td>PR</td>\n",
       "      <td>20.0</td>\n",
       "      <td>FEMENINO</td>\n",
       "      <td>20200822.0</td>\n",
       "      <td>110501.0</td>\n",
       "      <td>24662175.0</td>\n",
       "    </tr>\n",
       "    <tr>\n",
       "      <th>2</th>\n",
       "      <td>20220111</td>\n",
       "      <td>HUANUCO</td>\n",
       "      <td>HUANUCO</td>\n",
       "      <td>HUANUCO</td>\n",
       "      <td>PR</td>\n",
       "      <td>22.0</td>\n",
       "      <td>FEMENINO</td>\n",
       "      <td>20200729.0</td>\n",
       "      <td>100101.0</td>\n",
       "      <td>24662197.0</td>\n",
       "    </tr>\n",
       "    <tr>\n",
       "      <th>3</th>\n",
       "      <td>20220111</td>\n",
       "      <td>ANCASH</td>\n",
       "      <td>SANTA</td>\n",
       "      <td>SANTA</td>\n",
       "      <td>AG</td>\n",
       "      <td>18.0</td>\n",
       "      <td>FEMENINO</td>\n",
       "      <td>20210630.0</td>\n",
       "      <td>21808.0</td>\n",
       "      <td>24662204.0</td>\n",
       "    </tr>\n",
       "  </tbody>\n",
       "</table>\n",
       "</div>"
      ],
      "text/plain": [
       "   FECHA_CORTE DEPARTAMENTO PROVINCIA              DISTRITO METODODX  EDAD  \\\n",
       "0     20220111         LIMA      LIMA  SAN MARTIN DE PORRES       PR  25.0   \n",
       "1     20220111          ICA     PISCO                 PISCO       PR  20.0   \n",
       "2     20220111      HUANUCO   HUANUCO               HUANUCO       PR  22.0   \n",
       "3     20220111       ANCASH     SANTA                 SANTA       AG  18.0   \n",
       "\n",
       "        SEXO  FECHA_RESULTADO    UBIGEO  id_persona  \n",
       "0  MASCULINO       20201217.0  150135.0  24662153.0  \n",
       "1   FEMENINO       20200822.0  110501.0  24662175.0  \n",
       "2   FEMENINO       20200729.0  100101.0  24662197.0  \n",
       "3   FEMENINO       20210630.0   21808.0  24662204.0  "
      ]
     },
     "execution_count": 3,
     "metadata": {},
     "output_type": "execute_result"
    }
   ],
   "source": [
    "df.head(4)"
   ]
  },
  {
   "cell_type": "code",
   "execution_count": 4,
   "id": "b2d8f407",
   "metadata": {},
   "outputs": [
    {
     "data": {
      "text/plain": [
       "Index(['FECHA_CORTE', 'DEPARTAMENTO', 'PROVINCIA', 'DISTRITO', 'METODODX',\n",
       "       'EDAD', 'SEXO', 'FECHA_RESULTADO', 'UBIGEO', 'id_persona'],\n",
       "      dtype='object')"
      ]
     },
     "execution_count": 4,
     "metadata": {},
     "output_type": "execute_result"
    }
   ],
   "source": [
    "df.columns"
   ]
  },
  {
   "cell_type": "code",
   "execution_count": 5,
   "id": "672ca191",
   "metadata": {},
   "outputs": [],
   "source": [
    "df[\"FECHA_CORTE\"] =pd.to_datetime(df[\"FECHA_CORTE\"], format = \"%Y%m%d\")\n",
    "df[\"FECHA_RESULTADO\"] = pd.to_datetime(df[\"FECHA_RESULTADO\"], format = \"%Y%m%d\")"
   ]
  },
  {
   "cell_type": "code",
   "execution_count": 6,
   "id": "04b35d80",
   "metadata": {},
   "outputs": [
    {
     "data": {
      "text/html": [
       "<div>\n",
       "<style scoped>\n",
       "    .dataframe tbody tr th:only-of-type {\n",
       "        vertical-align: middle;\n",
       "    }\n",
       "\n",
       "    .dataframe tbody tr th {\n",
       "        vertical-align: top;\n",
       "    }\n",
       "\n",
       "    .dataframe thead th {\n",
       "        text-align: right;\n",
       "    }\n",
       "</style>\n",
       "<table border=\"1\" class=\"dataframe\">\n",
       "  <thead>\n",
       "    <tr style=\"text-align: right;\">\n",
       "      <th></th>\n",
       "      <th>FECHA_CORTE</th>\n",
       "      <th>DEPARTAMENTO</th>\n",
       "      <th>PROVINCIA</th>\n",
       "      <th>DISTRITO</th>\n",
       "      <th>METODODX</th>\n",
       "      <th>EDAD</th>\n",
       "      <th>SEXO</th>\n",
       "      <th>FECHA_RESULTADO</th>\n",
       "      <th>UBIGEO</th>\n",
       "      <th>id_persona</th>\n",
       "    </tr>\n",
       "  </thead>\n",
       "  <tbody>\n",
       "    <tr>\n",
       "      <th>0</th>\n",
       "      <td>2022-01-11</td>\n",
       "      <td>LIMA</td>\n",
       "      <td>LIMA</td>\n",
       "      <td>SAN MARTIN DE PORRES</td>\n",
       "      <td>PR</td>\n",
       "      <td>25.0</td>\n",
       "      <td>MASCULINO</td>\n",
       "      <td>2020-12-17</td>\n",
       "      <td>150135.0</td>\n",
       "      <td>24662153.0</td>\n",
       "    </tr>\n",
       "    <tr>\n",
       "      <th>1</th>\n",
       "      <td>2022-01-11</td>\n",
       "      <td>ICA</td>\n",
       "      <td>PISCO</td>\n",
       "      <td>PISCO</td>\n",
       "      <td>PR</td>\n",
       "      <td>20.0</td>\n",
       "      <td>FEMENINO</td>\n",
       "      <td>2020-08-22</td>\n",
       "      <td>110501.0</td>\n",
       "      <td>24662175.0</td>\n",
       "    </tr>\n",
       "    <tr>\n",
       "      <th>2</th>\n",
       "      <td>2022-01-11</td>\n",
       "      <td>HUANUCO</td>\n",
       "      <td>HUANUCO</td>\n",
       "      <td>HUANUCO</td>\n",
       "      <td>PR</td>\n",
       "      <td>22.0</td>\n",
       "      <td>FEMENINO</td>\n",
       "      <td>2020-07-29</td>\n",
       "      <td>100101.0</td>\n",
       "      <td>24662197.0</td>\n",
       "    </tr>\n",
       "    <tr>\n",
       "      <th>3</th>\n",
       "      <td>2022-01-11</td>\n",
       "      <td>ANCASH</td>\n",
       "      <td>SANTA</td>\n",
       "      <td>SANTA</td>\n",
       "      <td>AG</td>\n",
       "      <td>18.0</td>\n",
       "      <td>FEMENINO</td>\n",
       "      <td>2021-06-30</td>\n",
       "      <td>21808.0</td>\n",
       "      <td>24662204.0</td>\n",
       "    </tr>\n",
       "  </tbody>\n",
       "</table>\n",
       "</div>"
      ],
      "text/plain": [
       "  FECHA_CORTE DEPARTAMENTO PROVINCIA              DISTRITO METODODX  EDAD  \\\n",
       "0  2022-01-11         LIMA      LIMA  SAN MARTIN DE PORRES       PR  25.0   \n",
       "1  2022-01-11          ICA     PISCO                 PISCO       PR  20.0   \n",
       "2  2022-01-11      HUANUCO   HUANUCO               HUANUCO       PR  22.0   \n",
       "3  2022-01-11       ANCASH     SANTA                 SANTA       AG  18.0   \n",
       "\n",
       "        SEXO FECHA_RESULTADO    UBIGEO  id_persona  \n",
       "0  MASCULINO      2020-12-17  150135.0  24662153.0  \n",
       "1   FEMENINO      2020-08-22  110501.0  24662175.0  \n",
       "2   FEMENINO      2020-07-29  100101.0  24662197.0  \n",
       "3   FEMENINO      2021-06-30   21808.0  24662204.0  "
      ]
     },
     "execution_count": 6,
     "metadata": {},
     "output_type": "execute_result"
    }
   ],
   "source": [
    "df.head(4)"
   ]
  },
  {
   "cell_type": "code",
   "execution_count": 7,
   "id": "3f73ec9d",
   "metadata": {},
   "outputs": [],
   "source": [
    "df.EDAD = df.EDAD.fillna(0)\n",
    "df[\"EDAD\"] = df[\"EDAD\"].astype(int)"
   ]
  },
  {
   "cell_type": "code",
   "execution_count": 52,
   "id": "aa27c057",
   "metadata": {},
   "outputs": [
    {
     "data": {
      "text/plain": [
       "0          25\n",
       "1          20\n",
       "2          22\n",
       "3          18\n",
       "4          17\n",
       "           ..\n",
       "2440344    63\n",
       "2440345    18\n",
       "2440346    43\n",
       "2440347     0\n",
       "2440348    36\n",
       "Name: EDAD, Length: 2440349, dtype: int64"
      ]
     },
     "execution_count": 52,
     "metadata": {},
     "output_type": "execute_result"
    }
   ],
   "source": [
    "df.EDAD"
   ]
  },
  {
   "cell_type": "code",
   "execution_count": 9,
   "id": "c7e35cd3",
   "metadata": {},
   "outputs": [],
   "source": [
    "df.id_persona = df.id_persona.fillna(0)\n",
    "df.id_persona = df.id_persona.astype(int)"
   ]
  },
  {
   "cell_type": "code",
   "execution_count": 55,
   "id": "24dfb3b3",
   "metadata": {},
   "outputs": [
    {
     "data": {
      "text/plain": [
       "Timestamp('2022-01-11 00:00:00')"
      ]
     },
     "execution_count": 55,
     "metadata": {},
     "output_type": "execute_result"
    }
   ],
   "source": [
    "df[\"FECHA_RESULTADO\"].max()"
   ]
  },
  {
   "cell_type": "code",
   "execution_count": 10,
   "id": "180f3165",
   "metadata": {},
   "outputs": [
    {
     "data": {
      "text/plain": [
       "0          24662153\n",
       "1          24662175\n",
       "2          24662197\n",
       "3          24662204\n",
       "4          24662207\n",
       "             ...   \n",
       "2440344           0\n",
       "2440345           0\n",
       "2440346           0\n",
       "2440347           0\n",
       "2440348           0\n",
       "Name: id_persona, Length: 2440349, dtype: int64"
      ]
     },
     "execution_count": 10,
     "metadata": {},
     "output_type": "execute_result"
    }
   ],
   "source": [
    "df.id_persona"
   ]
  },
  {
   "cell_type": "code",
   "execution_count": 12,
   "id": "0a51f189",
   "metadata": {},
   "outputs": [
    {
     "data": {
      "text/plain": [
       "LIMA             0.448800\n",
       "AREQUIPA         0.051221\n",
       "CALLAO           0.045359\n",
       "PIURA            0.041082\n",
       "LA LIBERTAD      0.040433\n",
       "JUNIN            0.038208\n",
       "ANCASH           0.035245\n",
       "CUSCO            0.034386\n",
       "CAJAMARCA        0.028976\n",
       "LAMBAYEQUE       0.028612\n",
       "ICA              0.026735\n",
       "SAN MARTIN       0.020654\n",
       "LORETO           0.018774\n",
       "PUNO             0.018008\n",
       "HUANUCO          0.015644\n",
       "AYACUCHO         0.014838\n",
       "AMAZONAS         0.013822\n",
       "TACNA            0.013758\n",
       "UCAYALI          0.013379\n",
       "MOQUEGUA         0.012903\n",
       "APURIMAC         0.011218\n",
       "TUMBES           0.008129\n",
       "HUANCAVELICA     0.006977\n",
       "PASCO            0.006961\n",
       "MADRE DE DIOS    0.005877\n",
       "Name: DEPARTAMENTO, dtype: float64"
      ]
     },
     "execution_count": 12,
     "metadata": {},
     "output_type": "execute_result"
    }
   ],
   "source": [
    "df[\"DEPARTAMENTO\"].value_counts(normalize=True)"
   ]
  },
  {
   "cell_type": "code",
   "execution_count": 13,
   "id": "2257d23b",
   "metadata": {},
   "outputs": [
    {
     "data": {
      "text/plain": [
       "LIMA             1095228\n",
       "AREQUIPA          124997\n",
       "CALLAO            110693\n",
       "PIURA             100254\n",
       "LA LIBERTAD        98671\n",
       "JUNIN              93242\n",
       "ANCASH             86010\n",
       "CUSCO              83915\n",
       "CAJAMARCA          70711\n",
       "LAMBAYEQUE         69824\n",
       "ICA                65243\n",
       "SAN MARTIN         50403\n",
       "LORETO             45814\n",
       "PUNO               43947\n",
       "HUANUCO            38176\n",
       "AYACUCHO           36211\n",
       "AMAZONAS           33730\n",
       "TACNA              33575\n",
       "UCAYALI            32649\n",
       "MOQUEGUA           31488\n",
       "APURIMAC           27375\n",
       "TUMBES             19837\n",
       "HUANCAVELICA       17026\n",
       "PASCO              16987\n",
       "MADRE DE DIOS      14343\n",
       "Name: DEPARTAMENTO, dtype: int64"
      ]
     },
     "execution_count": 13,
     "metadata": {},
     "output_type": "execute_result"
    }
   ],
   "source": [
    "df[\"DEPARTAMENTO\"].value_counts()"
   ]
  },
  {
   "cell_type": "code",
   "execution_count": 14,
   "id": "2880427b",
   "metadata": {},
   "outputs": [
    {
     "data": {
      "text/plain": [
       "DEPARTAMENTO   SEXO     \n",
       "AMAZONAS       FEMENINO      17766\n",
       "               MASCULINO     15964\n",
       "ANCASH         FEMENINO      43981\n",
       "               MASCULINO     42029\n",
       "APURIMAC       FEMENINO      13929\n",
       "               MASCULINO     13446\n",
       "AREQUIPA       FEMENINO      60035\n",
       "               MASCULINO     64962\n",
       "AYACUCHO       FEMENINO      18644\n",
       "               MASCULINO     17567\n",
       "CAJAMARCA      FEMENINO      35905\n",
       "               MASCULINO     34806\n",
       "CALLAO         FEMENINO      53832\n",
       "               MASCULINO     56861\n",
       "CUSCO          FEMENINO      42288\n",
       "               MASCULINO     41627\n",
       "HUANCAVELICA   FEMENINO       8705\n",
       "               MASCULINO      8321\n",
       "HUANUCO        FEMENINO      20049\n",
       "               MASCULINO     18127\n",
       "ICA            FEMENINO      33054\n",
       "               MASCULINO     32189\n",
       "JUNIN          FEMENINO      48205\n",
       "               MASCULINO     45037\n",
       "LA LIBERTAD    FEMENINO      48937\n",
       "               MASCULINO     49734\n",
       "LAMBAYEQUE     FEMENINO      35738\n",
       "               MASCULINO     34086\n",
       "LIMA           FEMENINO     522784\n",
       "               MASCULINO    572443\n",
       "LORETO         FEMENINO      23651\n",
       "               MASCULINO     22163\n",
       "MADRE DE DIOS  FEMENINO       7150\n",
       "               MASCULINO      7193\n",
       "MOQUEGUA       FEMENINO      13654\n",
       "               MASCULINO     17834\n",
       "PASCO          FEMENINO       8593\n",
       "               MASCULINO      8394\n",
       "PIURA          FEMENINO      50459\n",
       "               MASCULINO     49795\n",
       "PUNO           FEMENINO      22012\n",
       "               MASCULINO     21935\n",
       "SAN MARTIN     FEMENINO      26644\n",
       "               MASCULINO     23759\n",
       "TACNA          FEMENINO      16877\n",
       "               MASCULINO     16698\n",
       "TUMBES         FEMENINO       9946\n",
       "               MASCULINO      9891\n",
       "UCAYALI        FEMENINO      17134\n",
       "               MASCULINO     15515\n",
       "dtype: int64"
      ]
     },
     "execution_count": 14,
     "metadata": {},
     "output_type": "execute_result"
    }
   ],
   "source": [
    "df.groupby(['DEPARTAMENTO',\"SEXO\"]).size()"
   ]
  },
  {
   "cell_type": "code",
   "execution_count": 46,
   "id": "e65188c7",
   "metadata": {},
   "outputs": [
    {
     "data": {
      "text/plain": [
       "<AxesSubplot:xlabel='DEPARTAMENTO'>"
      ]
     },
     "execution_count": 46,
     "metadata": {},
     "output_type": "execute_result"
    },
    {
     "data": {
      "image/png": "[encoded data removed]",
      "text/plain": [
       "<Figure size 432x288 with 1 Axes>"
      ]
     },
     "metadata": {
      "needs_background": "light"
     },
     "output_type": "display_data"
    }
   ],
   "source": [
    "df.groupby(['DEPARTAMENTO']).size().plot(kind = \"bar\", ylim=(0,1500000))"
   ]
  },
  {
   "cell_type": "code",
   "execution_count": 15,
   "id": "a4c6f3c5",
   "metadata": {},
   "outputs": [
    {
     "data": {
      "text/plain": [
       "MASCULINO    1240376\n",
       "FEMENINO     1199972\n",
       "Name: SEXO, dtype: int64"
      ]
     },
     "execution_count": 15,
     "metadata": {},
     "output_type": "execute_result"
    }
   ],
   "source": [
    "df[\"SEXO\"].value_counts()"
   ]
  },
  {
   "cell_type": "code",
   "execution_count": 48,
   "id": "a896fd48",
   "metadata": {},
   "outputs": [
    {
     "data": {
      "text/plain": [
       "SEXO       EDAD\n",
       "FEMENINO   -79        1\n",
       "            0      3901\n",
       "            1      2787\n",
       "            2      2251\n",
       "            3      2100\n",
       "                   ... \n",
       "MASCULINO   119       2\n",
       "            120      11\n",
       "            121       4\n",
       "            122       1\n",
       "            125       1\n",
       "Length: 236, dtype: int64"
      ]
     },
     "execution_count": 48,
     "metadata": {},
     "output_type": "execute_result"
    }
   ],
   "source": [
    "df.groupby([\"SEXO\", \"EDAD\"]).size()"
   ]
  },
  {
   "cell_type": "code",
   "execution_count": 17,
   "id": "a2165232",
   "metadata": {},
   "outputs": [
    {
     "data": {
      "text/plain": [
       "SEXO\n",
       "FEMENINO     1199972.0\n",
       "MASCULINO    1240376.0\n",
       "Name: id_persona, dtype: float64"
      ]
     },
     "execution_count": 17,
     "metadata": {},
     "output_type": "execute_result"
    }
   ],
   "source": [
    "means = df['id_persona'].groupby([df['SEXO']]).count().astype(\"float\")\n",
    "means"
   ]
  },
  {
   "cell_type": "code",
   "execution_count": 19,
   "id": "cacfe9f8",
   "metadata": {},
   "outputs": [
    {
     "data": {
      "text/plain": [
       "<AxesSubplot:>"
      ]
     },
     "execution_count": 19,
     "metadata": {},
     "output_type": "execute_result"
    },
    {
     "data": {
      "image/png": "[encoded data removed]",
      "text/plain": [
       "<Figure size 1440x432 with 1 Axes>"
      ]
     },
     "metadata": {
      "needs_background": "light"
     },
     "output_type": "display_data"
    }
   ],
   "source": [
    "df[\"FECHA_RESULTADO\"].value_counts().plot(kind = \"line\", figsize = (20,6)) "
   ]
  },
  {
   "cell_type": "code",
   "execution_count": null,
   "id": "74956a5f",
   "metadata": {},
   "outputs": [],
   "source": []
  },
  {
   "cell_type": "code",
   "execution_count": null,
   "id": "e809c57f",
   "metadata": {},
   "outputs": [],
   "source": []
  },
  {
   "cell_type": "code",
   "execution_count": null,
   "id": "464f2e5d",
   "metadata": {},
   "outputs": [],
   "source": []
  }
 ],
 "metadata": {
  "kernelspec": {
   "display_name": "Python 3 (ipykernel)",
   "language": "python",
   "name": "python3"
  },
  "language_info": {
   "codemirror_mode": {
    "name": "ipython",
    "version": 3
   },
   "file_extension": ".py",
   "mimetype": "text/x-python",
   "name": "python",
   "nbconvert_exporter": "python",
   "pygments_lexer": "ipython3",
   "version": "3.9.7"
  }
 },
 "nbformat": 4,
 "nbformat_minor": 5
}
